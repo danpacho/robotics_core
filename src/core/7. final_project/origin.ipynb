{
  "cells": [
    {
      "cell_type": "code",
      "execution_count": null,
      "metadata": {
        "id": "muMEoqhHY82_"
      },
      "outputs": [],
      "source": [
        "!pip install mujoco\n",
        "\n",
        "# Set up GPU rendering.\n",
        "from google.colab import files\n",
        "import distutils.util\n",
        "import os\n",
        "import subprocess\n",
        "if subprocess.run('nvidia-smi').returncode:\n",
        "  raise RuntimeError(\n",
        "      'Cannot communicate with GPU. '\n",
        "      'Make sure you are using a GPU Colab runtime. '\n",
        "      'Go to the Runtime menu and select Choose runtime type.')\n",
        "\n",
        "# Add an ICD config so that glvnd can pick up the Nvidia EGL driver.\n",
        "# This is usually installed as part of an Nvidia driver package, but the Colab\n",
        "# kernel doesn't install its driver via APT, and as a result the ICD is missing.\n",
        "# (https://github.com/NVIDIA/libglvnd/blob/master/src/EGL/icd_enumeration.md)\n",
        "NVIDIA_ICD_CONFIG_PATH = '/usr/share/glvnd/egl_vendor.d/10_nvidia.json'\n",
        "if not os.path.exists(NVIDIA_ICD_CONFIG_PATH):\n",
        "  with open(NVIDIA_ICD_CONFIG_PATH, 'w') as f:\n",
        "    f.write(\"\"\"{\n",
        "    \"file_format_version\" : \"1.0.0\",\n",
        "    \"ICD\" : {\n",
        "        \"library_path\" : \"libEGL_nvidia.so.0\"\n",
        "    }\n",
        "}\n",
        "\"\"\")\n",
        "\n",
        "# Configure MuJoCo to use the EGL rendering backend (requires GPU)\n",
        "print('Setting environment variable to use GPU rendering:')\n",
        "%env MUJOCO_GL=egl\n",
        "\n",
        "# Check if installation was succesful.\n",
        "try:\n",
        "  print('Checking that the installation succeeded:')\n",
        "  import mujoco\n",
        "  mujoco.MjModel.from_xml_string('<mujoco/>')\n",
        "except Exception as e:\n",
        "  raise e from RuntimeError(\n",
        "      'Something went wrong during installation. Check the shell output above '\n",
        "      'for more information.\\n'\n",
        "      'If using a hosted Colab runtime, make sure you enable GPU acceleration '\n",
        "      'by going to the Runtime menu and selecting \"Choose runtime type\".')\n",
        "\n",
        "print('Installation successful.')\n",
        "\n",
        "# Other imports and helper functions\n",
        "import numpy as np\n",
        "from typing import Callable, Optional, Union, List\n",
        "import scipy.linalg\n",
        "import math\n",
        "import time\n",
        "import copy\n",
        "import numpy.typing as npt\n",
        "\n",
        "# Graphics and plotting.\n",
        "print('Installing mediapy:')\n",
        "!command -v ffmpeg >/dev/null || (apt update && apt install -y ffmpeg)\n",
        "!pip install -q mediapy\n",
        "import mediapy as media\n",
        "import matplotlib.pyplot as plt\n",
        "\n",
        "# More legible printing from numpy.\n",
        "np.set_printoptions(precision=3, suppress=True, linewidth=100)\n",
        "\n",
        "from IPython.display import clear_output\n",
        "clear_output()"
      ]
    },
    {
      "cell_type": "markdown",
      "metadata": {
        "id": "dq9PTPVkJg33"
      },
      "source": [
        "# Understanding MuJoCo: An Advanced Physics Engine\n",
        "\n",
        "MuJoCo, which stands for Multi-Joint dynamics with Contact, is a cutting-edge physics engine designed to aid in research and development in various fields, including robotics, biomechanics, graphics, and animation. It is renowned for its speed, accuracy, and powerful modeling capabilities, making it a valuable tool for both academic and practical applications."
      ]
    },
    {
      "cell_type": "markdown",
      "metadata": {
        "id": "NlS6z5XCY83B"
      },
      "source": [
        "# Load and Render the Franka Emika Panda"
      ]
    },
    {
      "cell_type": "markdown",
      "metadata": {
        "id": "U7ArtE6tY83C"
      },
      "source": [
        "The provided code sets up the MuJoCo environment for simulating and visualizing a Panda robot model.\n",
        "The XML is used to instantiate an `MjModel`. Given the model, we can create an `MjData` which holds the simulation state, and an instance of the `Renderer` class defined above.\n",
        " - mujoco.MjModel.from_xml_string(xml): Creates a MuJoCo model from the XML string. This model includes the physical properties, kinematics, and dynamics of the Panda robot.\n",
        " - mujoco.MjData(model): Initializes the MuJoCo data object associated with the model. This object contains the simulation state, including positions, velocities, forces, and other dynamic properties.\n",
        " - mujoco.Renderer(model): Initializes the renderer object for visualizing the MuJoCo model. This object will handle the rendering of the model's simulation in a 3D graphical window."
      ]
    },
    {
      "cell_type": "code",
      "execution_count": null,
      "metadata": {
        "id": "mTAhW-WcY83C"
      },
      "outputs": [],
      "source": [
        "# Clone the repository containing the Panda robot model and related assets\n",
        "!git clone https://github.com/SouthColumn76/panda_mjcf\n",
        "# Copy the assets directory from the cloned repository to the current working directory\n",
        "!cp -r panda_mjcf/assets ./assets\n",
        "\n",
        "# Open and read the XML file defining the Panda robot model\n",
        "with open('panda_mjcf/panda_4cube.xml', 'r') as fp:\n",
        "  xml = fp.read()\n",
        "\n",
        "# Create a MuJoCo model instance from the XML string\n",
        "model = mujoco.MjModel.from_xml_string(xml)\n",
        "data = mujoco.MjData(model)\n",
        "renderer = mujoco.Renderer(model)"
      ]
    },
    {
      "cell_type": "markdown",
      "metadata": {
        "id": "6WfSBfutY83C"
      },
      "source": [
        "The state in the `data` object is in the default configuration. Let's invoke the forward dynamics to populate all the derived quantities (like the positions of geoms in the world), update the scene and render it:\n",
        "- mujoco.mj_forward(model, data): This function computes the forward dynamics of the model. It updates the state of the simulation based on the current positions, velocities, and forces acting on the model. Essentially, it advances the simulation by one time step, considering the physics and constraints defined in the model.\n",
        "- renderer.update_scene(data): This function updates the renderer with the latest simulation data. It prepares the scene for rendering by incorporating the current state of the simulation (positions, orientations, etc.) into the graphical representation.\n",
        "- renderer.render(): This function renders the current scene, generating an image based on the updated simulation data. It produces a visual representation of the model and its environment as defined by the current state.\n",
        "- media.show_image(renderer.render()): This function displays the rendered image using a media display tool. It takes the image produced by renderer.render() and shows it in an appropriate viewer, making the simulation's visual output accessible to the user."
      ]
    },
    {
      "cell_type": "code",
      "execution_count": null,
      "metadata": {
        "id": "ej_Ccbw7Y83C"
      },
      "outputs": [],
      "source": [
        "# Perform a forward dynamics computation to update the simulation state\n",
        "mujoco.mj_forward(model, data)\n",
        "\n",
        "# Update the renderer with the current simulation data\n",
        "renderer.update_scene(data)\n",
        "\n",
        "# Render the current scene and display the resulting image\n",
        "media.show_image(renderer.render())"
      ]
    },
    {
      "cell_type": "markdown",
      "metadata": {
        "id": "az0D2VtbY83D"
      },
      "source": [
        "Because it is far away, the robot cannot be seen in detail.\n",
        "\n",
        "Mujoco can use multiple cameras.\n",
        "Let's check the cameras currently in this XML and render using each one."
      ]
    },
    {
      "cell_type": "code",
      "execution_count": null,
      "metadata": {
        "id": "GoGDqrVyY83D"
      },
      "outputs": [],
      "source": [
        "for i in range(model.ncam):\n",
        "    print(model.camera(i).name)\n",
        "    renderer.update_scene(data, camera=i)\n",
        "    media.show_image(renderer.render())"
      ]
    },
    {
      "cell_type": "markdown",
      "metadata": {
        "id": "SkE1LbqVY83D"
      },
      "source": [
        "When specifying a camera, we can use not only the number but also the name."
      ]
    },
    {
      "cell_type": "code",
      "execution_count": null,
      "metadata": {
        "id": "0zc_-2U0Y83D"
      },
      "outputs": [],
      "source": [
        "renderer.update_scene(data, camera=\"sideview\")\n",
        "media.show_image(renderer.render())"
      ]
    },
    {
      "cell_type": "markdown",
      "metadata": {
        "id": "GsHuf6u6Y83D"
      },
      "source": [
        "## Actuator Control"
      ]
    },
    {
      "cell_type": "markdown",
      "metadata": {
        "id": "KSKFe_IeY83D"
      },
      "source": [
        "The model comes with some built-in \"keyframes\" which are saved simulation states.\n",
        "\n",
        "`mj_resetDataKeyframe` can be used to load them. Let's see what they look like:\n",
        "\n",
        "- mujoco.mj_resetDataKeyframe(model, data, key): This function resets the simulation data to match the state defined by the specified keyframe. Keyframes are predefined states of the model, and this function sets the simulation to these states, one by one, as the loop iterates."
      ]
    },
    {
      "cell_type": "code",
      "execution_count": null,
      "metadata": {
        "id": "7ftwtg4KY83D"
      },
      "outputs": [],
      "source": [
        "for key in range(model.nkey):\n",
        "    mujoco.mj_resetDataKeyframe(model, data, key)\n",
        "    mujoco.mj_forward(model, data)\n",
        "    renderer.update_scene(data, camera=\"sideview\")\n",
        "    media.show_image(renderer.render())"
      ]
    },
    {
      "cell_type": "markdown",
      "metadata": {
        "id": "xaNN-zCMY83D"
      },
      "source": [
        "Now let's simulate the physics and render to make a video."
      ]
    },
    {
      "cell_type": "code",
      "execution_count": null,
      "metadata": {
        "id": "At974EhLY83D"
      },
      "outputs": [],
      "source": [
        "DURATION = 3  # seconds\n",
        "FRAMERATE = 60  # Hz\n",
        "\n",
        "# Initialize pose.\n",
        "mujoco.mj_resetDataKeyframe(model, data, 0)\n",
        "\n",
        "frames = []\n",
        "while data.time < DURATION:\n",
        "    # Step the simulation.\n",
        "    mujoco.mj_step(model, data)\n",
        "\n",
        "    # Render and save frames.\n",
        "    if len(frames) < data.time * FRAMERATE:\n",
        "        renderer.update_scene(data, camera=\"sideview\")\n",
        "        pixels = renderer.render()\n",
        "        frames.append(pixels)\n",
        "\n",
        "# Display video.\n",
        "media.show_video(frames, fps=FRAMERATE)"
      ]
    },
    {
      "cell_type": "markdown",
      "metadata": {
        "id": "KFaiLdSBY83E"
      },
      "source": [
        "Since the model is defined as built-in torque actuators, without control, the posture cannot be maintained due to gravity.\n",
        "\n",
        "we can use to drive the robot's joints by setting the `data.ctrl` vector."
      ]
    },
    {
      "cell_type": "markdown",
      "metadata": {
        "id": "s5gCQqRFY83E"
      },
      "source": [
        "### How to find the relationship between joint and actuator"
      ]
    },
    {
      "cell_type": "markdown",
      "metadata": {
        "id": "-M_dGOVWY83E"
      },
      "source": [
        "In XML, not only robots but all movable objects have joints. Among them, the only joints that can be controlled are those connected to the actuator.\n",
        "\n",
        "To find out which joints an actuator can control, check the actuator's transmission type and ID."
      ]
    },
    {
      "cell_type": "code",
      "execution_count": null,
      "metadata": {
        "id": "Evwh_Lk1Y83E"
      },
      "outputs": [],
      "source": [
        "model.actuator(0).trntype, model.actuator(0).trnid"
      ]
    },
    {
      "cell_type": "markdown",
      "metadata": {
        "id": "tvXb-k0pY83E"
      },
      "source": [
        "In this XML, the transmission type of each joint of the robot is `mjTRN_JOINT` and the finger of the end-effector is `mjTRN_TENDON`."
      ]
    },
    {
      "cell_type": "code",
      "execution_count": null,
      "metadata": {
        "id": "S9hcDzUhY83E"
      },
      "outputs": [],
      "source": [
        "mujoco.mjtTrn.mjTRN_JOINT, mujoco.mjtTrn.mjTRN_TENDON"
      ]
    },
    {
      "cell_type": "markdown",
      "metadata": {
        "id": "LCmyHM6JY83E"
      },
      "source": [
        "#PID Controller Class"
      ]
    },
    {
      "cell_type": "markdown",
      "metadata": {
        "id": "jH6xyQUfY83E"
      },
      "source": [
        "**Specifications**:\n",
        "1. Class Definition:\n",
        "  - Class Name: PIDController\n",
        "2. Constructor Parameters:\n",
        "  - k_p: Proportional gain (default: 0.01)\n",
        "  - k_i: Integral gain (default: 0.0)\n",
        "  - k_d: Derivative gain (default: 0.001)\n",
        "  - dt: Time step (default: 0.01)\n",
        "  - dim: Dimensionality of the controller (default: 1)\n",
        "  - dt_min: Minimum time step to avoid division by zero (default: 1e-6)\n",
        "  - out_min: Minimum output value (default: -infinity)\n",
        "  - out_max: Maximum output value (default: infinity)\n",
        "  - ANTIWU: Boolean to enable or disable anti-windup (default: True)\n",
        "  - out_alpha: Smoothing factor for output EMA (default: 0.0)\n",
        "3. Methods:\n",
        "  - reset(self, t_curr=0.0): Resets the internal state of the controller.\n",
        "  - update(self, x_curr, t_curr, x_trgt=None): Updates the controller state and computes the control output based on the current and target states and the current time.\n",
        "  - out(self): Returns the current control output value."
      ]
    },
    {
      "cell_type": "code",
      "execution_count": null,
      "metadata": {
        "id": "dqyBPGsSY83E"
      },
      "outputs": [],
      "source": [
        "class PIDController:\n",
        "    def __init__(\n",
        "        self,\n",
        "        k_p=0.01,\n",
        "        k_i=0.0,\n",
        "        k_d=0.001,\n",
        "        dt=0.01,\n",
        "        dim=1,\n",
        "        dt_min=1e-6,\n",
        "        out_min=-np.inf,\n",
        "        out_max=np.inf,\n",
        "        ANTIWU=True,  # anti-windup\n",
        "        out_alpha=0.0,  # output EMA (0: no EMA)\n",
        "    ) -> None:\n",
        "        self.k_p = np.ones(shape=dim) * k_p\n",
        "        self.k_i = np.ones(shape=dim) * k_i\n",
        "        self.k_d = np.ones(shape=dim) * k_d\n",
        "        self.dt = dt\n",
        "        self.dim = dim\n",
        "        self.dt_min = dt_min\n",
        "        self.out_min = out_min\n",
        "        self.out_max = out_max\n",
        "        self.ANTIWU = ANTIWU\n",
        "        self.out_alpha = out_alpha\n",
        "\n",
        "        # Buffers\n",
        "        self.reset()\n",
        "\n",
        "    def reset(self, t_curr=0.0) -> None:\n",
        "        self.cnt = 0\n",
        "        self.x_trgt = np.zeros(shape=self.dim)\n",
        "        self.x_curr = np.zeros(shape=self.dim)\n",
        "        self.out_val = np.zeros(shape=self.dim)\n",
        "        self.out_val_prev = np.zeros(shape=self.dim)\n",
        "        self.t_curr = t_curr\n",
        "        self.t_prev = t_curr\n",
        "        self.err_curr = np.zeros(shape=self.dim)\n",
        "        self.err_intg = np.zeros(shape=self.dim)\n",
        "        self.err_prev = np.zeros(shape=self.dim)\n",
        "        self.p_term = np.zeros(shape=self.dim)\n",
        "        self.d_term = np.zeros(shape=self.dim)\n",
        "        self.err_out = np.zeros(shape=self.dim)\n",
        "\n",
        "    def update(self, x_curr, t_curr, x_trgt=None) -> None:\n",
        "        \"\"\"\n",
        "        Update PID controller\n",
        "        u(t) = K_p e(t) + K_i int e(t) {dt} + K_d {de}/{dt}\n",
        "        \"\"\"\n",
        "        if x_trgt is not None:\n",
        "            self.x_trgt = x_trgt\n",
        "        if t_curr is not None:\n",
        "            self.t_curr = t_curr\n",
        "        if x_curr is not None:\n",
        "            self.x_curr = x_curr\n",
        "            # PID controller updates here\n",
        "            self.dt = max(self.t_curr - self.t_prev, self.dt_min)\n",
        "            self.err_curr = self.x_trgt - self.x_curr\n",
        "            self.err_intg = self.err_intg + (self.err_curr * self.dt)\n",
        "            self.err_diff = self.err_curr - self.err_prev\n",
        "\n",
        "            if self.ANTIWU:  # anti-windup\n",
        "                self.err_out = self.err_curr * self.out_val\n",
        "                self.err_intg[self.err_out < 0.0] = 0.0\n",
        "\n",
        "            if self.dt > self.dt_min:\n",
        "                self.p_term = self.k_p * self.err_curr\n",
        "                self.i_term = self.k_i * self.err_intg\n",
        "                self.d_term = self.k_d * self.err_diff / self.dt\n",
        "                self.out_val = np.clip(\n",
        "                    a=self.p_term + self.i_term + self.d_term,\n",
        "                    a_min=self.out_min,\n",
        "                    a_max=self.out_max,\n",
        "                )\n",
        "                # Smooth the output control value using EMA\n",
        "                self.out_val = (\n",
        "                    self.out_alpha * self.out_val_prev\n",
        "                    + (1.0 - self.out_alpha) * self.out_val\n",
        "                )\n",
        "                self.out_val_prev = self.out_val\n",
        "\n",
        "            # Backup\n",
        "            self.t_prev = self.t_curr\n",
        "            self.err_prev = self.err_curr\n",
        "        # Counter\n",
        "        if (t_curr is not None) and (x_curr is not None):\n",
        "            self.cnt = self.cnt + 1\n",
        "\n",
        "    def out(self) -> npt.NDArray:\n",
        "        return self.out_val"
      ]
    },
    {
      "cell_type": "markdown",
      "metadata": {
        "id": "1oUv_75aY83E"
      },
      "source": [
        "The current status of robot joints required to use the PID controller can be known through `data.qpos`.\n",
        "\n",
        "Since `data.qpos` is the state vector of all joints in XML, we need to find the qpos of the joints connected to the actuator."
      ]
    },
    {
      "cell_type": "code",
      "execution_count": null,
      "metadata": {
        "id": "YVwXKC6MY83E"
      },
      "outputs": [],
      "source": [
        "model.nu  # number of actuators/controls = dim(ctrl)\n",
        "joint_ids = []\n",
        "ctrl_adrs = []\n",
        "for id in range(model.nu):\n",
        "    if model.actuator(id).trntype[0] == mujoco.mjtTrn.mjTRN_JOINT:\n",
        "        joint_ids.append(model.actuator(id).trnid[0])\n",
        "        ctrl_adrs.append(id)\n",
        "qpos_adrs = model.jnt_qposadr[joint_ids]"
      ]
    },
    {
      "cell_type": "code",
      "execution_count": null,
      "metadata": {
        "id": "YBuNfAKmY83E"
      },
      "outputs": [],
      "source": [
        "DURATION = 3  # seconds\n",
        "FRAMERATE = 60  # Hz\n",
        "\n",
        "# Initialize pose.\n",
        "mujoco.mj_resetDataKeyframe(model, data, 0)\n",
        "\n",
        "# Initialize PID Controller\n",
        "pid_controller = PIDController(\n",
        "    k_p=1000,\n",
        "    k_i=0.1,\n",
        "    k_d=50,\n",
        "    dim=7,\n",
        "    out_min=model.actuator_ctrlrange[ctrl_adrs, 0],\n",
        "    out_max=model.actuator_ctrlrange[ctrl_adrs, 1],\n",
        ")\n",
        "pid_controller.x_trgt = data.qpos[qpos_adrs].copy()\n",
        "\n",
        "frames = []\n",
        "while data.time < DURATION:\n",
        "    # Step the simulation.\n",
        "    x_curr = data.qpos[qpos_adrs].copy()\n",
        "    pid_controller.update(x_curr, data.time)\n",
        "    data.ctrl[ctrl_adrs] = pid_controller.out()\n",
        "    mujoco.mj_step(model, data)\n",
        "\n",
        "    # Render and save frames.\n",
        "    if len(frames) < data.time * FRAMERATE:\n",
        "        renderer.update_scene(data, camera=\"sideview\")\n",
        "        pixels = renderer.render()\n",
        "        frames.append(pixels)\n",
        "\n",
        "# Display video.\n",
        "media.show_video(frames, fps=FRAMERATE)"
      ]
    },
    {
      "cell_type": "markdown",
      "metadata": {
        "id": "6AaojDSeY83F"
      },
      "source": [
        "# Utility Functions"
      ]
    },
    {
      "cell_type": "markdown",
      "metadata": {
        "id": "8soKbYaGY83F"
      },
      "source": [
        "Robot body and joint are important in kinematics. Like actuators, bodies also have a relationship with joints."
      ]
    },
    {
      "cell_type": "code",
      "execution_count": null,
      "metadata": {
        "id": "k6BP2PYqY83F"
      },
      "outputs": [],
      "source": [
        "body_id = model.body(\"link1\").id\n",
        "joint_id = model.body_jntadr[body_id]"
      ]
    },
    {
      "cell_type": "markdown",
      "metadata": {
        "id": "PtyU_MbzY83F"
      },
      "source": [
        "Since mujoco represent the relationship between each body as a kinematic tree, we can easily find the entire body and joint using the body id or name of the end-effector."
      ]
    },
    {
      "cell_type": "code",
      "execution_count": null,
      "metadata": {
        "id": "laPYj8mOY83F"
      },
      "outputs": [],
      "source": [
        "for body_id in range(model.nbody):\n",
        "    print(model.body(body_id).name)"
      ]
    },
    {
      "cell_type": "markdown",
      "metadata": {
        "id": "yHDlT9TiSQBq"
      },
      "source": [
        "Some utility functions"
      ]
    },
    {
      "cell_type": "code",
      "execution_count": null,
      "metadata": {
        "id": "mKMqEMt6Y83F"
      },
      "outputs": [],
      "source": [
        "def get_body_ids(model: mujoco.MjModel, eef: str | int) -> list[int]:\n",
        "    eef_id = model.body(eef).id\n",
        "    body_ids = [eef_id]\n",
        "    body_id = eef_id\n",
        "    tree_id = model.body_treeid[eef_id]\n",
        "    for _ in range(model.nbody):\n",
        "        parent_id = model.body(body_id).parentid[0]\n",
        "        if model.body_treeid[parent_id] == tree_id:\n",
        "            body_ids.append(parent_id)\n",
        "            body_id = body_ids[-1]\n",
        "        else:\n",
        "            break\n",
        "    else:\n",
        "        raise ValueError(f\"body {eef_id} not in tree of kinematics chain.\")\n",
        "    body_ids.reverse()\n",
        "    return body_ids\n",
        "\n",
        "\n",
        "def get_qpos_adrs(model: mujoco.MjModel, body_ids: list[int]) -> list[int]:\n",
        "    jnt_ids = model.body_jntadr[body_ids]\n",
        "    jnt_ids = [id for id in jnt_ids if id != -1]\n",
        "    qpos_adrs = model.jnt_qposadr[jnt_ids]\n",
        "    return qpos_adrs\n",
        "\n",
        "\n",
        "def get_qvel_adrs(model: mujoco.MjModel, body_ids: list[int]) -> list[int]:\n",
        "    jnt_ids = model.body_jntadr[body_ids]\n",
        "    jnt_ids = [id for id in jnt_ids if id != -1]\n",
        "    dof_adrs = model.jnt_dofadr[jnt_ids]\n",
        "    return dof_adrs\n",
        "\n",
        "\n",
        "body_ids = get_body_ids(model, eef=\"hand\")\n",
        "qpos_adrs = get_qpos_adrs(model, body_ids)\n",
        "qvel_adrs = get_qvel_adrs(model, body_ids)\n",
        "print(\n",
        "    \"\\n\".join(\n",
        "        [\n",
        "            f\"body name: {model.body(body_id).name}, bodt id: {body_id} , qpos adress: {qpos_adrr}, qvel adress: {qvel_adrr}\"\n",
        "            for body_id, qpos_adrr, qvel_adrr in zip(body_ids, qpos_adrs, qvel_adrs)\n",
        "        ]\n",
        "    )\n",
        ")"
      ]
    },
    {
      "cell_type": "markdown",
      "metadata": {
        "id": "LmxEmNvZY83F"
      },
      "source": [
        "### Kinematics in Mujoco\n",
        "Three components are required to create an RRT* planner and a Cartesian planner.\n",
        "\n",
        "* Sampler:  \n",
        "  RRT* is a sampling-based planner, so it requires the ability to generate random samples. Additionally, it serves to check whether the given state is valid.\n",
        "* Collision Checker:  \n",
        "  It is necessary to check whether a conflict occurs in a given state.\n",
        "* Kinematics:  \n",
        "  It is responsible for calculating forward and inverse kinematics."
      ]
    },
    {
      "cell_type": "markdown",
      "metadata": {
        "id": "Qeep42KhY83F"
      },
      "source": [
        "#### Sampler"
      ]
    },
    {
      "cell_type": "code",
      "execution_count": null,
      "metadata": {
        "id": "amHE2W4iY83F"
      },
      "outputs": [],
      "source": [
        "class Sampler:\n",
        "    def __init__(self, model: mujoco.MjModel, body_ids: list[int]) -> None:\n",
        "        joint_mins = []\n",
        "        joint_maxs = []\n",
        "        for id in body_ids:\n",
        "            joint_id = model.body(id).jntadr[0]\n",
        "            if joint_id == -1:\n",
        "                continue\n",
        "            joint_range = model.joint(joint_id).range\n",
        "            joint_mins.append(joint_range[0])\n",
        "            joint_maxs.append(joint_range[1])\n",
        "        self.joint_mins = np.array(joint_mins)\n",
        "        self.joint_maxs = np.array(joint_maxs)\n",
        "\n",
        "    def __call__(self) -> npt.NDArray:\n",
        "        return np.random.uniform(low=self.joint_mins, high=self.joint_maxs)\n",
        "\n",
        "    def __contains__(self, item: npt.NDArray) -> bool:\n",
        "        return np.all((item >= self.joint_mins) & (item <= self.joint_maxs))"
      ]
    },
    {
      "cell_type": "code",
      "execution_count": null,
      "metadata": {
        "id": "w4sLqKIxY83F"
      },
      "outputs": [],
      "source": [
        "sampler = Sampler(model, body_ids)\n",
        "\n",
        "sample = sampler()\n",
        "print(sample)\n",
        "\n",
        "sample += np.random.normal(0, 1, sample.shape)\n",
        "print(sample in sampler)"
      ]
    },
    {
      "cell_type": "code",
      "execution_count": null,
      "metadata": {
        "id": "oUJkcRNwY83F"
      },
      "outputs": [],
      "source": [
        "def get_image_of_pos(qpos, camera: str | int = \"frontview\"):\n",
        "    data.qpos[qpos_adrs] = qpos\n",
        "    mujoco.mj_kinematics(model, data)\n",
        "    renderer.update_scene(data, camera=camera)\n",
        "    return renderer.render()\n",
        "\n",
        "\n",
        "media.show_image(get_image_of_pos(sample))"
      ]
    },
    {
      "cell_type": "markdown",
      "metadata": {
        "id": "ZW9iA5PMY83I"
      },
      "source": [
        "# Collision Checker"
      ]
    },
    {
      "cell_type": "markdown",
      "metadata": {
        "id": "tsZnr1KKSjgo"
      },
      "source": [
        "**Specifications**:\n",
        "1. Class Definition:\n",
        "\n",
        "  - Class Name: CollisionChecker\n",
        "2. Constructor Parameters:\n",
        "\n",
        "  - model: An instance of mujoco.MjModel representing the MuJoCo model.\n",
        "  - body_ids: A list of body IDs to consider for collision checking.\n",
        "  - ignore_pairs: An optional list of tuples, each containing two geometry names to ignore during collision detection.\n",
        "3. Methods:\n",
        "\n",
        "  - `__init__`(self, model: mujoco.MjModel, body_ids: list[int], ignore_pairs: list[tuple] = None): Initializes the collision checker with the given model, body IDs, and ignore pairs.\n",
        "  - set_qpos(self, data: mujoco.MjData): Updates the internal state of the collision checker with the given simulation data.\n",
        "  - `__call__`(self, sample: npt.NDArray, print_col: bool = False) -> bool: Checks for collisions given a sample configuration and optionally prints collision details.\n",
        "4. Functional Requirements:\n",
        "\n",
        "  - The collision checker should update the model's configuration using the provided sample.\n",
        "  - Perform collision detection using MuJoCo's collision functions.\n",
        "  - Optionally ignore specified pairs of geometries during collision detection.\n",
        "  - Optionally print details of collisions if specified.\n",
        "  - Return a boolean indicating whether a collision was detected (excluding ignored pairs)."
      ]
    },
    {
      "cell_type": "code",
      "execution_count": null,
      "metadata": {
        "id": "bSoFrHgmY83J"
      },
      "outputs": [],
      "source": [
        "class CollisionChecker:\n",
        "    def __init__(\n",
        "        self,\n",
        "        model: mujoco.MjModel,\n",
        "        body_ids: list[int],\n",
        "        ignore_pairs: list[tuple] = None,\n",
        "    ) -> None:\n",
        "        self.model = model\n",
        "        self.data = mujoco.MjData(model)\n",
        "        self.qpos_adrs = get_qpos_adrs(model, body_ids)\n",
        "        self.ignore = False\n",
        "        if ignore_pairs:\n",
        "            self.ignore = True\n",
        "            self.ignore_pairs = [\n",
        "                set((model.geom(first).id, model.geom(second).id))\n",
        "                for first, second in ignore_pairs\n",
        "            ]\n",
        "\n",
        "    def set_qpos(self, data: mujoco.MjData) -> None:\n",
        "        self.data.qpos[:] = data.qpos.copy()\n",
        "\n",
        "    def __call__(self, sample: npt.NDArray, print_col: bool = False) -> bool:\n",
        "        self.data.qpos[self.qpos_adrs] = sample\n",
        "\n",
        "        mujoco.mj_kinematics(self.model, self.data)\n",
        "        mujoco.mj_collision(self.model, self.data)\n",
        "        ncon = self.data.ncon\n",
        "\n",
        "        if print_col:\n",
        "            for contact in self.data.contact:\n",
        "                print(\n",
        "                    \"collied between\",\n",
        "                    f\"{self.model.body(self.model.geom(contact.geom1).bodyid[0]).name}:{self.model.geom(contact.geom1).name} and\",\n",
        "                    f\"{self.model.body(self.model.geom(contact.geom2).bodyid[0]).name}:{self.model.geom(contact.geom2).name}\",\n",
        "                )\n",
        "\n",
        "        if self.ignore:\n",
        "            for contact in self.data.contact:\n",
        "                pair = set((contact.geom1, contact.geom2))\n",
        "                if pair in self.ignore_pairs:\n",
        "                    ncon -= 1\n",
        "\n",
        "        return ncon != 0"
      ]
    },
    {
      "cell_type": "code",
      "execution_count": null,
      "metadata": {
        "id": "YYIem-kzY83J"
      },
      "outputs": [],
      "source": [
        "collision = CollisionChecker(model, body_ids)\n",
        "sample = sampler()\n",
        "print(sample, not collision(sample, print_col=True))"
      ]
    },
    {
      "cell_type": "markdown",
      "metadata": {
        "id": "pp1T23e7Y83J"
      },
      "source": [
        "#### Kinematics"
      ]
    },
    {
      "cell_type": "markdown",
      "metadata": {
        "id": "CXonAU-FY83J"
      },
      "source": [
        "Use jacobian when doing inverse. In this case, `dof_adrs` must be used, because the qpos size of the free joint is 7, but the qvel size is 6. mujoco jacobian uses dof adrs because it deals with velocity values.\n",
        "For reference, the total number of qpos is `model.nq` and the total number of qvel is `model.nv`."
      ]
    },
    {
      "cell_type": "code",
      "execution_count": null,
      "metadata": {
        "id": "JesJOZLEY83J"
      },
      "outputs": [],
      "source": [
        "def rot_to_omega(R, threshold):\n",
        "    el = np.array([[R[2, 1] - R[1, 2]], [R[0, 2] - R[2, 0]], [R[1, 0] - R[0, 1]]])\n",
        "    norm_el = np.linalg.norm(el)\n",
        "    if norm_el > threshold:\n",
        "        w = np.dot(np.arctan2(norm_el, np.trace(R) - 1) / norm_el, el)\n",
        "    elif R[0, 0] > 0 and R[1, 1] > 0 and R[2, 2] > 0:\n",
        "        w = np.zeros((3, 1))\n",
        "    else:\n",
        "        w = np.dot(np.pi / 2, np.array([[R[0, 0] + 1], [R[1, 1] + 1], [R[2, 2] + 1]]))\n",
        "    return w\n",
        "\n",
        "\n",
        "def calc_pose_error(target_pos, target_rot, current_pos, current_rot, threshold):\n",
        "    pos_diff = target_pos - current_pos\n",
        "    rot_diff = np.dot(current_rot.T, target_rot)\n",
        "    w_err = np.dot(current_rot, rot_to_omega(rot_diff, threshold))\n",
        "    return np.vstack((pos_diff.reshape([-1, 1]), w_err))\n",
        "\n",
        "\n",
        "class Kinematics:\n",
        "    def __init__(self, model: mujoco.MjModel, body_ids: list[int]) -> None:\n",
        "        self.model = model\n",
        "        self.body_ids = body_ids\n",
        "\n",
        "    def forward(self, qpos: npt.NDArray, eef_id: int = None) -> npt.NDArray:\n",
        "        body_ids = self.body_ids\n",
        "        if eef_id:\n",
        "            body_ids = self.get_sub_body_ids(eef_id)\n",
        "        qpos_adrs = get_qpos_adrs(self.model, body_ids)\n",
        "        if len(qpos_adrs) != len(qpos):\n",
        "            raise ValueError(\n",
        "                f\"shape mismatch: qpos array of shape {qpos.shape} could not be broadcast to qpos addresses of shape ({len(qpos_adrs)},)\"\n",
        "            )\n",
        "\n",
        "        fk_data = mujoco.MjData(self.model)\n",
        "        fk_data.qpos[qpos_adrs] = qpos\n",
        "        mujoco.mj_forward(self.model, fk_data)\n",
        "        pos = fk_data.body(body_ids[-1]).xpos.copy()\n",
        "        quat = fk_data.body(body_ids[-1]).xquat.copy()\n",
        "        rot = fk_data.body(body_ids[-1]).xmat.reshape([3, 3]).copy()\n",
        "        return pos, quat, rot\n",
        "\n",
        "    def inverse(\n",
        "        self,\n",
        "        init_qpos: npt.NDArray,\n",
        "        goal_pos: npt.NDArray,\n",
        "        goal_rot: npt.NDArray,\n",
        "        eef_id: int = None,\n",
        "        max_iter: int = 10,\n",
        "        threshold: float = 1e-8,\n",
        "    ) -> npt.NDArray:\n",
        "        body_ids = self.body_ids\n",
        "        if eef_id:\n",
        "            body_ids = self.get_sub_body_ids(eef_id)\n",
        "        qpos_adrs = get_qpos_adrs(self.model, body_ids)\n",
        "        if len(qpos_adrs) != len(init_qpos):\n",
        "            raise ValueError(\n",
        "                f\"shape mismatch: qpos array of shape {init_qpos.shape} could not be broadcast to qpos addresses of shape ({len(qpos_adrs)},)\"\n",
        "            )\n",
        "        # Jacobian address\n",
        "        qvel_adrs = get_qvel_adrs(self.model, body_ids)\n",
        "\n",
        "        dof = self.get_total_dof_of_body_ids(body_ids)\n",
        "        nv = self.model.nv\n",
        "        wn_pos = 1 / 0.3\n",
        "        wn_ang = 1 / (2 * np.pi)\n",
        "        We = np.diag([wn_pos, wn_pos, wn_pos, wn_ang, wn_ang, wn_ang])\n",
        "        Wn = np.eye(dof)\n",
        "\n",
        "        current_qpos = init_qpos.copy()\n",
        "        ik_data = mujoco.MjData(self.model)\n",
        "        ik_data.qpos[qpos_adrs] = current_qpos\n",
        "        mujoco.mj_forward(self.model, ik_data)\n",
        "        current_pos = ik_data.body(body_ids[-1]).xpos.copy()\n",
        "        current_rot = ik_data.body(body_ids[-1]).xmat.copy().reshape([3, 3])\n",
        "        err = calc_pose_error(goal_pos, goal_rot, current_pos, current_rot, threshold)\n",
        "        Ek = np.dot(np.dot(err.T, We), err)[0][0]\n",
        "        jacp = np.zeros((3, nv))\n",
        "        jacr = np.zeros((3, nv))\n",
        "\n",
        "        for _ in range(max_iter):\n",
        "            lamb = Ek + 0.002\n",
        "            mujoco.mj_jac(self.model, ik_data, jacp, jacr, current_pos, body_ids[-1])\n",
        "            J = np.vstack(\n",
        "                [\n",
        "                    jacp[:, qvel_adrs[0] : qvel_adrs[0] + dof],\n",
        "                    jacr[:, qvel_adrs[0] : qvel_adrs[0] + dof],\n",
        "                ]\n",
        "            )\n",
        "            JT = np.dot(np.dot(J.T, We), J)\n",
        "            J_dls = JT + np.dot(np.diag(np.diag(JT)), lamb)\n",
        "\n",
        "            gerr = np.dot(np.dot(J.T, We), err)\n",
        "            dq = np.dot(np.linalg.inv(J_dls), gerr)\n",
        "            current_qpos += dq.reshape([-1])\n",
        "\n",
        "            ik_data.qpos[qpos_adrs] = current_qpos\n",
        "            mujoco.mj_forward(self.model, ik_data)\n",
        "            current_pos = ik_data.body(body_ids[-1]).xpos.copy()\n",
        "            current_rot = ik_data.body(body_ids[-1]).xmat.copy().reshape([3, 3])\n",
        "            err = calc_pose_error(\n",
        "                goal_pos, goal_rot, current_pos, current_rot, threshold\n",
        "            )\n",
        "            Ek2 = np.dot(np.dot(err.T, We), err)[0][0]\n",
        "            if Ek2 <= threshold:\n",
        "                print(Ek)\n",
        "                break\n",
        "            elif Ek2 < Ek:\n",
        "                Ek = Ek2\n",
        "            else:\n",
        "                current_qpos -= dq.reshape([-1])\n",
        "                print(Ek)\n",
        "                break\n",
        "        else:\n",
        "            current_qpos = None\n",
        "        return current_qpos\n",
        "\n",
        "    def get_sub_body_ids(self, eef_id: int) -> list[int]:\n",
        "        body_ids = [eef_id]\n",
        "        body_id = eef_id\n",
        "        for _ in range(self.model.nbody):\n",
        "            parent_id = self.model.body(body_id).parentid\n",
        "            body_ids.append(parent_id[0])\n",
        "            body_id = body_ids[-1]\n",
        "            if body_id == self.body_ids[0]:\n",
        "                break\n",
        "        else:\n",
        "            raise ValueError(f\"body {eef_id} not in tree of kinematics chain.\")\n",
        "        body_ids.reverse()\n",
        "        return body_ids\n",
        "\n",
        "    def get_total_dof_of_body_ids(self, body_ids: list[int]) -> int:\n",
        "        dof = 0\n",
        "        for jnt_id in self.model.body_jntadr[body_ids]:\n",
        "            if jnt_id == -1:\n",
        "                continue\n",
        "            jnt_type = self.model.jnt(jnt_id).type\n",
        "            if jnt_type[0] == mujoco.mjtJoint.mjJNT_FREE.value:\n",
        "                dof += 7\n",
        "            elif jnt_type[0] == mujoco.mjtJoint.mjJNT_BALL.value:\n",
        "                dof += 4\n",
        "            else:\n",
        "                dof += 1\n",
        "        return dof"
      ]
    },
    {
      "cell_type": "code",
      "execution_count": null,
      "metadata": {
        "id": "G3tyX9QAY83J"
      },
      "outputs": [],
      "source": [
        "kinematics = Kinematics(model, body_ids)\n",
        "\n",
        "sample = sampler()\n",
        "print(f\"before: {sample}\")\n",
        "\n",
        "pos, _, rot = kinematics.forward(sample)\n",
        "sample += np.random.normal(0, 0.1, sample.shape)\n",
        "\n",
        "if sample in sampler:\n",
        "    inversed = kinematics.inverse(sample, pos, rot)\n",
        "    print(f\"after:  {inversed}\")\n",
        "else:\n",
        "    print(\"not in valid joint range\")"
      ]
    },
    {
      "cell_type": "markdown",
      "metadata": {
        "id": "m_0YJ7zzY83J"
      },
      "source": [
        "# RRT* Planner\n"
      ]
    },
    {
      "cell_type": "markdown",
      "metadata": {
        "id": "cyqTtpLCc1ri"
      },
      "source": [
        "\n",
        "**Specifications**:\n",
        "\n",
        "1. **Class Definition**:\n",
        "    - **Class Name**: `RRTStarPlanner`\n",
        "\n",
        "2. **Constructor Parameters**:\n",
        "    - `gamma`: A parameter that influences the radius of the search for nearby nodes during the rewiring process.\n",
        "    - `eta`: The maximum step size for the tree expansion.\n",
        "    - `epsilon`: Probability of sampling the goal configuration directly.\n",
        "\n",
        "3. **Methods**:\n",
        "    - `__init__(self, gamma: float, eta: float, epsilon: float = 0.0)`: Initializes the planner with the given parameters.\n",
        "    - `__call__(self, sampler: Sampler, collision: CollisionChecker, init_qpos: npt.NDArray, goal_qpos: npt.NDArray, max_iter: int = 1000, threshold: float = 0.5)`: Runs the RRT* algorithm to find a path from `init_qpos` to `goal_qpos`.\n",
        "    - `steer(self, nearest: npt.NDArray, sample: npt.NDArray, distance: float) -> npt.NDArray`: Steers from the nearest configuration towards the sample configuration within the step size limit.\n",
        "    - `path(self) -> list[npt.NDArray]`: Returns the found path as a list of configurations if a path has been found."
      ]
    },
    {
      "cell_type": "code",
      "execution_count": null,
      "metadata": {
        "id": "s6qNBzxHY83J"
      },
      "outputs": [],
      "source": [
        "class RRTStarPlanner:\n",
        "    def __init__(self, gamma: float, eta: float, epsilon: float = 0.0) -> None:\n",
        "        self.gamma = gamma\n",
        "        self.eta = eta\n",
        "        self.epsilon = epsilon\n",
        "        self.path_ready = False\n",
        "\n",
        "    def __call__(\n",
        "        self,\n",
        "        sampler: Sampler,\n",
        "        collision: CollisionChecker,\n",
        "        init_qpos: npt.NDArray,\n",
        "        goal_qpos: npt.NDArray,\n",
        "        max_iter: int = 1000,\n",
        "        threshold: float = 0.5,\n",
        "    ) -> None:\n",
        "        # init data buffer\n",
        "        self.samples = np.array([init_qpos.copy()])\n",
        "        self.parents = np.array([-1], dtype=np.int32)\n",
        "        self.costs = np.array([0], dtype=np.float64)\n",
        "        self.path_ready = False\n",
        "\n",
        "        for _ in range(max_iter):\n",
        "            # sampling\n",
        "            if np.random.random() < self.epsilon:\n",
        "                new_qpos = goal_qpos.copy()\n",
        "            else:\n",
        "                new_qpos = sampler()\n",
        "            if collision(new_qpos):\n",
        "                continue\n",
        "\n",
        "            # find nearest and steer\n",
        "            distances = np.linalg.norm(self.samples - new_qpos, axis=1)\n",
        "            nearest_index = np.argmin(distances)\n",
        "            new_qpos = self.steer(\n",
        "                self.samples[nearest_index], new_qpos, distances[nearest_index]\n",
        "            )\n",
        "            if new_qpos not in sampler:\n",
        "                continue\n",
        "            if collision(new_qpos):\n",
        "                continue\n",
        "\n",
        "            # connect along a minimum-cost path\n",
        "            distances = np.linalg.norm(self.samples - new_qpos, axis=1)\n",
        "            card = len(self.samples) + 1\n",
        "            radius = self.gamma * ((math.log(card) / card) ** (1 / len(new_qpos)))\n",
        "            radius = min(radius, self.eta)\n",
        "            near_indices = np.where(np.around(distances, decimals=5) <= radius)[0]\n",
        "\n",
        "            # rewire the tree\n",
        "            near_costs = distances[near_indices] + self.costs[near_indices]\n",
        "            min_cost = np.min(near_costs)\n",
        "            min_index = near_indices[np.argmin(near_costs)]\n",
        "            self.samples = np.vstack((self.samples, new_qpos))\n",
        "            self.parents = np.append(self.parents, min_index)\n",
        "            self.costs = np.append(self.costs, min_cost)\n",
        "\n",
        "            # update all costs\n",
        "            need_update = np.where(\n",
        "                distances[near_indices] + min_cost < self.costs[near_indices]\n",
        "            )[0]\n",
        "            self.parents[need_update] = len(self.parents) - 1\n",
        "            self.costs[need_update] = distances[need_update] + min_cost\n",
        "\n",
        "        distances = np.linalg.norm(self.samples - goal_qpos, axis=1)\n",
        "        goal_near_indices = np.where(distances <= threshold)[0]\n",
        "        if goal_near_indices.size > 0:\n",
        "            index = np.argmin(\n",
        "                self.costs[goal_near_indices] + distances[goal_near_indices]\n",
        "            )\n",
        "            cost = (\n",
        "                self.costs[goal_near_indices[index]]\n",
        "                + distances[goal_near_indices[index]]\n",
        "            )\n",
        "            self.samples = np.vstack((self.samples, goal_qpos.copy()))\n",
        "            self.parents = np.append(self.parents, goal_near_indices[index])\n",
        "            self.costs = np.append(self.costs, cost)\n",
        "            self.path_ready = True\n",
        "\n",
        "    def steer(\n",
        "        self, nearest: npt.NDArray, sample: npt.NDArray, distance: float\n",
        "    ) -> npt.NDArray:\n",
        "        if np.equal(nearest, sample).all():\n",
        "            return sample\n",
        "        vector = sample - nearest\n",
        "        unit_vector = vector / distance\n",
        "        step = min(self.eta, distance)\n",
        "        steered = nearest + unit_vector * step\n",
        "        return steered\n",
        "\n",
        "    @property\n",
        "    def path(self) -> list[npt.NDArray]:\n",
        "        path = []\n",
        "        if self.path_ready:\n",
        "            index = len(self.parents) - 1\n",
        "            while index > 0:\n",
        "                path.append(self.samples[index])\n",
        "                index = self.parents[index]\n",
        "            path.reverse()\n",
        "        return path"
      ]
    },
    {
      "cell_type": "code",
      "execution_count": null,
      "metadata": {
        "id": "PkKHaz3AY83J"
      },
      "outputs": [],
      "source": [
        "init_qpos = None\n",
        "goal_qpos = None\n",
        "\n",
        "while True:\n",
        "    init_qpos = sampler()\n",
        "    if not collision(init_qpos):\n",
        "        break\n",
        "while True:\n",
        "    goal_qpos = sampler()\n",
        "    if not collision(goal_qpos):\n",
        "        break\n",
        "\n",
        "print(\"Start qpos\")\n",
        "media.show_image(get_image_of_pos(init_qpos))\n",
        "\n",
        "print(\"Goal qpos\")\n",
        "media.show_image(get_image_of_pos(goal_qpos))"
      ]
    },
    {
      "cell_type": "code",
      "execution_count": null,
      "metadata": {
        "id": "PoF1is48Y83K"
      },
      "outputs": [],
      "source": [
        "planner_1 = RRTStarPlanner(gamma=0.5, eta=0.1, epsilon=0.1)\n",
        "planner_2 = RRTStarPlanner(gamma=0.5, eta=0.05, epsilon=0.1)\n",
        "planner_3 = RRTStarPlanner(gamma=0.5, eta=0.01, epsilon=0.1)\n",
        "\n",
        "planners = [planner_1, planner_2, planner_3]\n",
        "paths = []\n",
        "for index, planner in enumerate(planners):\n",
        "    start = time.time()\n",
        "    planner(sampler, collision, init_qpos, goal_qpos, max_iter=10000, threshold=0.05)\n",
        "    end = time.time()\n",
        "    if path := planner.path:\n",
        "        print(\n",
        "            f\"Planner {index+1} :: Find trajectory with length {len(path)} in time {end - start}.\"\n",
        "        )\n",
        "        paths.append(path)\n",
        "    else:\n",
        "        print(f\"Planner {index+1} :: Failed to find trajectory. time: {end - start}\")"
      ]
    },
    {
      "cell_type": "code",
      "execution_count": null,
      "metadata": {
        "id": "KoR_sGhPY83K"
      },
      "outputs": [],
      "source": [
        "for path in paths:\n",
        "    frames = [get_image_of_pos(path[0]) for _ in range(len(path) // 10)]\n",
        "    frames = frames + [get_image_of_pos(pos) for pos in path]\n",
        "    frames = frames + [get_image_of_pos(path[-1]) for _ in range(len(path) // 10)]\n",
        "\n",
        "    media.show_video(frames, fps=len(path) / 5)"
      ]
    },
    {
      "cell_type": "markdown",
      "metadata": {
        "id": "ra3qtj0HY83K"
      },
      "source": [
        "The video above was *__not__* controlled using a PID controller."
      ]
    },
    {
      "cell_type": "markdown",
      "metadata": {
        "id": "J4a2jlinY83K"
      },
      "source": [
        "# Cartesian Planner\n"
      ]
    },
    {
      "cell_type": "markdown",
      "metadata": {
        "id": "kflUDkV0c7p1"
      },
      "source": [
        "\n",
        "**Specifications**:\n",
        "\n",
        "1. **Class Definition**:\n",
        "    - **Class Name**: `CartesianPlanner`\n",
        "\n",
        "2. **Constructor Parameters**:\n",
        "    - `damping`: A damping factor used in the Damped Least Squares (DLS) method for inverse kinematics (default: 0.01).\n",
        "    - `goal_tolerance`: Tolerance for considering the goal position reached (default: 0.01).\n",
        "\n",
        "3. **Methods**:\n",
        "    - `__init__(self, damping: float = 0.01, goal_tolerance: float = 0.01)`: Initializes the planner with the given parameters.\n",
        "    - `__call__(self, sampler: Sampler, collision: CollisionChecker, kinematics: Kinematics, init_qpos: npt.NDArray, goal_pos: npt.NDArray, goal_rot: npt.NDArray, eef_id: int = None, resolution: int = 1, n_step: int = 100, max_iter: int = 10, threshold: float = 1e-12)`: Plans a path from the initial configuration to the goal pose.\n",
        "    - `generate_waypoints(self, init_pos, init_rot, goal_pos, goal_rot, n_step, is_slerp=False) -> list[tuple[npt.NDArray, npt.NDArray]]`: Generates waypoints from the initial pose to the goal pose."
      ]
    },
    {
      "cell_type": "code",
      "execution_count": null,
      "metadata": {
        "id": "0-ZwXRpQY83K"
      },
      "outputs": [],
      "source": [
        "def get_quaternion_from_matrix(R):\n",
        "    # Ensure the input is a proper rotation matrix\n",
        "    assert R.shape == (3, 3)\n",
        "\n",
        "    # Calculate the trace of the matrix\n",
        "    trace = np.trace(R)\n",
        "\n",
        "    if trace > 0:\n",
        "        s = 2.0 * np.sqrt(trace + 1.0)\n",
        "        w = 0.25 * s\n",
        "        x = (R[2, 1] - R[1, 2]) / s\n",
        "        y = (R[0, 2] - R[2, 0]) / s\n",
        "        z = (R[1, 0] - R[0, 1]) / s\n",
        "    elif (R[0, 0] > R[1, 1]) and (R[0, 0] > R[2, 2]):\n",
        "        s = 2.0 * np.sqrt(1.0 + R[0, 0] - R[1, 1] - R[2, 2])\n",
        "        w = (R[2, 1] - R[1, 2]) / s\n",
        "        x = 0.25 * s\n",
        "        y = (R[0, 1] + R[1, 0]) / s\n",
        "        z = (R[0, 2] + R[2, 0]) / s\n",
        "    elif R[1, 1] > R[2, 2]:\n",
        "        s = 2.0 * np.sqrt(1.0 + R[1, 1] - R[0, 0] - R[2, 2])\n",
        "        w = (R[0, 2] - R[2, 0]) / s\n",
        "        x = (R[0, 1] + R[1, 0]) / s\n",
        "        y = 0.25 * s\n",
        "        z = (R[1, 2] + R[2, 1]) / s\n",
        "    else:\n",
        "        s = 2.0 * np.sqrt(1.0 + R[2, 2] - R[0, 0] - R[1, 1])\n",
        "        w = (R[1, 0] - R[0, 1]) / s\n",
        "        x = (R[0, 2] + R[2, 0]) / s\n",
        "        y = (R[1, 2] + R[2, 1]) / s\n",
        "        z = 0.25 * s\n",
        "\n",
        "    return np.array([w, x, y, z])\n",
        "\n",
        "\n",
        "def get_matrix_from_quaternion(quat):\n",
        "    w, x, y, z = quat\n",
        "    R = np.array(\n",
        "        [\n",
        "            [2 * (w**2 + x**2) - 1, 2 * (x * y - w * z), 2 * (x * z + w * y)],\n",
        "            [2 * (x * y + w * z), 2 * (w**2 + y**2) - 1, 2 * (y * z - w * x)],\n",
        "            [2 * (x * z - w * y), 2 * (y * z + w * x), 2 * (w**2 + z**2) - 1],\n",
        "        ]\n",
        "    )\n",
        "    return R\n",
        "\n",
        "\n",
        "def get_linear_interpoation(postionA, postionB, step):\n",
        "    postionA = np.asarray(postionA)\n",
        "    postionB = np.asarray(postionB)\n",
        "    return postionB * step + postionA * (1 - step)\n",
        "\n",
        "\n",
        "def get_quaternion_inverse(quaternion):\n",
        "    q = np.array(quaternion, dtype=np.float64, copy=True)\n",
        "    np.negative(q[1:], q[1:])\n",
        "    return q / np.dot(q, q)\n",
        "\n",
        "\n",
        "def get_quaternion_slerp(qA, qB, t):\n",
        "    if isinstance(qA, (np.ndarray, list)) and isinstance(qB, (np.ndarray, list)):\n",
        "        qA = np.asarray(qA)\n",
        "        qB = np.asarray(qB)\n",
        "        if qA.shape != (4,):  # quaternion\n",
        "            raise ValueError(\"Expecting the shape of the orientation to be (4,)\")\n",
        "        if qB.shape == (0,):\n",
        "            qB = np.asarray([1.0, 0.0, 0.0, 0.0])\n",
        "\n",
        "        a = qB * get_quaternion_inverse(qA)\n",
        "        result = np.sign(a) * (np.abs(a)) ** t * qA\n",
        "        return result"
      ]
    },
    {
      "cell_type": "code",
      "execution_count": null,
      "metadata": {
        "id": "b9qNF06yY83K"
      },
      "outputs": [],
      "source": [
        "class CartesianPlanner:\n",
        "    def __init__(self, damping: float = 0.01, goal_tolerance: float = 0.01):\n",
        "        self.damping = damping\n",
        "        self.goal_tolerance = goal_tolerance\n",
        "        self.path = []\n",
        "\n",
        "    def __call__(\n",
        "        self,\n",
        "        sampler: Sampler,\n",
        "        collision: CollisionChecker,\n",
        "        kinematics: Kinematics,\n",
        "        init_qpos: npt.NDArray,\n",
        "        goal_pos: npt.NDArray,\n",
        "        goal_rot: npt.NDArray,\n",
        "        eef_id: int = None,\n",
        "        resolution: int = 1,\n",
        "        n_step: int = 100,\n",
        "        max_iter: int = 10,\n",
        "        threshold: float = 1e-12,\n",
        "    ) -> None:\n",
        "        self.path = []\n",
        "        init_pos, _, init_rot = kinematics.forward(init_qpos, eef_id)\n",
        "        waypoints = self.generate_waypoints(\n",
        "            init_pos, init_rot, goal_pos, goal_rot, n_step\n",
        "        )\n",
        "\n",
        "        nv = kinematics.model.nv\n",
        "        body_ids = kinematics.body_ids\n",
        "        joint_ids = kinematics.model.body_jntadr[body_ids]\n",
        "        joint_ids = [id for id in joint_ids if id != -1]\n",
        "        qpos_adrs = kinematics.model.jnt_qposadr[joint_ids]\n",
        "        qvel_adrs = kinematics.model.jnt_dofadr[joint_ids]\n",
        "        jac_data = mujoco.MjData(kinematics.model)\n",
        "        jac_data.qpos[:] = collision.data.qpos.copy()\n",
        "        jacp = np.zeros((3, nv))\n",
        "        jacr = np.zeros((3, nv))\n",
        "        dof = kinematics.get_total_dof_of_body_ids(body_ids)\n",
        "\n",
        "        collision_flag = False\n",
        "        damping = self.damping\n",
        "        for _ in range(max_iter):\n",
        "            current_qpos = init_qpos.copy()\n",
        "            joint_path = [current_qpos]\n",
        "            jac_data.qpos[qpos_adrs] = current_qpos\n",
        "            mujoco.mj_forward(kinematics.model, jac_data)\n",
        "            current_pos = jac_data.body(body_ids[-1]).xpos.copy()\n",
        "            current_rot = jac_data.body(body_ids[-1]).xmat.copy().reshape([3, 3])\n",
        "\n",
        "            for step, (pos, rot) in enumerate(waypoints):\n",
        "                err_pose = calc_pose_error(\n",
        "                    pos, rot, current_pos, current_rot, threshold\n",
        "                )\n",
        "\n",
        "                mujoco.mj_jac(\n",
        "                    kinematics.model, jac_data, jacp, jacr, current_pos, body_ids[-1]\n",
        "                )\n",
        "                J = np.vstack(\n",
        "                    [\n",
        "                        jacp[:, qvel_adrs[0] : qvel_adrs[0] + dof],\n",
        "                        jacr[:, qvel_adrs[0] : qvel_adrs[0] + dof],\n",
        "                    ]\n",
        "                )\n",
        "                J_dls = np.dot(\n",
        "                    J.T, np.linalg.inv(np.dot(J, J.T) + damping**2 * np.identity(6))\n",
        "                )\n",
        "                dq = np.dot(J_dls, err_pose)\n",
        "                current_qpos = current_qpos + dq.reshape([-1])\n",
        "\n",
        "                if collision(current_qpos):\n",
        "                    collision_flag = True\n",
        "                    break\n",
        "\n",
        "                jac_data.qpos[qpos_adrs] = current_qpos\n",
        "                mujoco.mj_forward(kinematics.model, jac_data)\n",
        "                current_pos = jac_data.body(body_ids[-1]).xpos.copy()\n",
        "                current_rot = jac_data.body(body_ids[-1]).xmat.copy().reshape([3, 3])\n",
        "\n",
        "                if current_qpos in sampler:\n",
        "                    if step % (1 / resolution) == 0 or step == len(waypoints) - 1:\n",
        "                        joint_path.append(current_qpos)\n",
        "            else:\n",
        "                err = np.linalg.norm(goal_pos - current_pos)\n",
        "                if err < self.goal_tolerance:\n",
        "                    break\n",
        "            if collision_flag:\n",
        "                joint_path = []\n",
        "                break\n",
        "        else:\n",
        "            joint_path = []\n",
        "        self.path = joint_path\n",
        "\n",
        "    def generate_waypoints(\n",
        "        self, init_pos, init_rot, goal_pos, goal_rot, n_step, is_slerp=False\n",
        "    ) -> list[tuple[npt.NDArray, npt.NDArray]]:\n",
        "        waypoints = []\n",
        "        if is_slerp:\n",
        "            init_ori = get_quaternion_from_matrix(init_rot)\n",
        "            goal_ori = get_quaternion_from_matrix(goal_rot)\n",
        "\n",
        "        for step in range(1, n_step + 1):\n",
        "            delta_t = step / n_step\n",
        "            pos = get_linear_interpoation(init_pos, goal_pos, delta_t)\n",
        "            rot = init_rot\n",
        "            if is_slerp:\n",
        "                quat = get_quaternion_slerp(init_ori, goal_ori, delta_t)\n",
        "                rot = get_matrix_from_quaternion(quat)\n",
        "            waypoints.append((pos, rot))\n",
        "        return waypoints"
      ]
    },
    {
      "cell_type": "code",
      "execution_count": null,
      "metadata": {
        "id": "I3_zvesBY83K"
      },
      "outputs": [],
      "source": [
        "mujoco.mj_resetDataKeyframe(model, data, key)\n",
        "mujoco.mj_forward(model, data)\n",
        "\n",
        "init_qpos = data.qpos[qpos_adrs]\n",
        "\n",
        "print(\"Init qpos\")\n",
        "media.show_image(get_image_of_pos(init_qpos, \"sideview\"))\n",
        "\n",
        "cartesian_goals = []\n",
        "for axis in range(3):\n",
        "    goal_pos, _, goal_rot = kinematics.forward(init_qpos)\n",
        "    goal_pos[axis] = goal_pos[axis] - 0.1\n",
        "    cartesian_goal_qpos = kinematics.inverse(init_qpos, goal_pos, goal_rot)\n",
        "    if cartesian_goal_qpos is not None and cartesian_goal_qpos in sampler:\n",
        "        cartesian_goals.append((goal_pos, goal_rot))"
      ]
    },
    {
      "cell_type": "code",
      "execution_count": null,
      "metadata": {
        "id": "K6_XiMdZY83K"
      },
      "outputs": [],
      "source": [
        "planner = CartesianPlanner()\n",
        "paths = []\n",
        "axis_name = [\"X\", \"Y\", \"Z\"]\n",
        "for index, (pos, rot) in enumerate(cartesian_goals):\n",
        "    start = time.time()\n",
        "    planner(sampler, collision, kinematics, init_qpos, pos, rot, n_step=100)\n",
        "    end = time.time()\n",
        "    if path := planner.path:\n",
        "        print(\n",
        "            f\"Path to move {axis_name[index]}-axis :: Find trajectory with length {len(path)} in time {end - start}.\"\n",
        "        )\n",
        "        paths.append(path)\n",
        "    else:\n",
        "        print(\n",
        "            f\"Path to move {axis_name[index]}-axis :: Failed to find trajectory. time: {end - start}\"\n",
        "        )"
      ]
    },
    {
      "cell_type": "code",
      "execution_count": null,
      "metadata": {
        "id": "BozQVwpPY83K"
      },
      "outputs": [],
      "source": [
        "views = [\"sideview\", \"frontview\", \"frontview\"]\n",
        "for path, view in zip(paths, views):\n",
        "    frames = [get_image_of_pos(path[0], view) for _ in range(len(path) // 10)]\n",
        "    frames = frames + [get_image_of_pos(pos, view) for pos in path]\n",
        "    frames = frames + [get_image_of_pos(path[-1], view) for _ in range(len(path) // 10)]\n",
        "\n",
        "    media.show_video(frames, fps=len(path) / 5)"
      ]
    },
    {
      "cell_type": "markdown",
      "metadata": {
        "id": "QoP4CmHfY83K"
      },
      "source": [
        "The video above was *__not__* controlled using a PID controller."
      ]
    },
    {
      "cell_type": "markdown",
      "metadata": {
        "id": "X0YrbJUcfqbV"
      },
      "source": [
        "# Object Grasp Planning"
      ]
    },
    {
      "cell_type": "markdown",
      "metadata": {
        "id": "A92meU5HxKFT"
      },
      "source": [
        "# Problem 1. [10pt] Find an object's pose in MuJoCo environment\n",
        "\n",
        "In a MuJoCo simulation environment, you often need to retrieve the positions and orientations of various objects (bodies) within the simulation. This information is crucial for tasks such as control, visualization, and analysis. Given a list of body names, write a Python function that:\n",
        "\n",
        "Retrieves the body IDs for the given body names.\n",
        "Extracts the positions and orientations (quaternions) of these bodies.\n",
        "Stores and returns this information in a dictionary.\n",
        "\n",
        "1. `get_body_names(model)`: Retrieves and returns a list of all body names in the MuJoCo model.\n",
        "2. `get_body_poses(model, data, body_names)`: Takes a list of body names and returns a dictionary with their positions and orientations."
      ]
    },
    {
      "cell_type": "code",
      "execution_count": null,
      "metadata": {
        "id": "R8JW_GJFxIzT"
      },
      "outputs": [],
      "source": [
        "def get_body_names(model):\n",
        "    \"\"\"\n",
        "    Retrieve all body names from the MuJoCo model.\n",
        "\n",
        "    Parameters:\n",
        "        model: MuJoCo model object.\n",
        "\n",
        "    Returns:\n",
        "        List of body names.\n",
        "    \"\"\"\n",
        "    pass\n",
        "    # Iterate through all bodies in the model\n",
        "    # Get the name of the body with index i\n",
        "    # Add the body name to the list if it exists\n",
        "\n",
        "\n",
        "def get_body_poses(model, data, body_names):\n",
        "    \"\"\"\n",
        "    Retrieve the positions and orientations of specified bodies.\n",
        "\n",
        "    Parameters:\n",
        "        model: MuJoCo model object.\n",
        "        data: MuJoCo data object.\n",
        "        body_names: List of body names to retrieve poses for.\n",
        "\n",
        "    Returns:\n",
        "        Dictionary with body names as keys and their poses as values.\n",
        "    \"\"\"\n",
        "    return {\"body\": {\"position\": None, \"orientation\": None}}\n",
        "    # Iterate through the list of body names\n",
        "    # Get the ID of the body with the given name\n",
        "    # Get the position of the body\n",
        "    # Get the orientation of the body (quaternion)\n",
        "\n",
        "    # Store the position and orientation in the dictionary\n",
        "\n",
        "\n",
        "# Initialize the MuJoCo model and data\n",
        "model_path = (\n",
        "    \"./panda_mjcf/panda_4cube.xml\"  # Provide the path to your MuJoCo model file\n",
        ")\n",
        "model = mujoco.MjModel.from_xml_path(model_path)\n",
        "data = mujoco.MjData(model)\n",
        "\n",
        "# Reset the data to the initial keyframe\n",
        "mujoco.mj_resetDataKeyframe(model, data, 0)\n",
        "# Forward the simulation to update the data\n",
        "mujoco.mj_forward(model, data)\n",
        "\n",
        "# List of body names to get poses for\n",
        "body_names = [\n",
        "    \"red_cube\",\n",
        "    \"hand\",\n",
        "]  # Replace with actual body names in your MuJoCo environment\n",
        "\n",
        "# Get the poses of the specified bodies\n",
        "body_poses = get_body_poses(model, data, body_names)\n",
        "\n",
        "# Print the poses\n",
        "for body_name, pose in body_poses.items():\n",
        "    print(f\"Pose of {body_name}:\")\n",
        "    print(f\"  Position: {pose['position']}\")\n",
        "    print(f\"  Orientation (quaternion): {pose['orientation']}\")"
      ]
    },
    {
      "cell_type": "markdown",
      "metadata": {
        "id": "cGtMJGegiUPg"
      },
      "source": [
        "# Problem 2. [20pt] Compute grasp poses to grasp an object in MuJoCo environment\n",
        "In this problem, you are required to compute the necessary poses for a robotic gripper to grasp an object in a MuJoCo simulation. The solution will involve:\n",
        "\n",
        "1. Computing the grasp pose for the gripper.\n",
        "2. Computing the pre-grasp and post-grasp poses.\n",
        "3. Solving the inverse kinematics for the pre-grasp pose.\n",
        "\n",
        "- Pre-Grasp Pose\n",
        "The pre-grasp pose is an intermediate pose where the gripper is positioned slightly above the object. This pose is used to ensure that the gripper can move down smoothly and accurately to the grasp pose. It helps avoid collisions and provides a controlled approach to grasping.\n",
        "\n",
        "- Post-Grasp Pose\n",
        "The post-grasp pose is the pose that the gripper assumes immediately after successfully grasping the object. This pose is used to lift the object slightly to ensure it is securely held before any further manipulation or movement."
      ]
    },
    {
      "cell_type": "code",
      "execution_count": null,
      "metadata": {
        "id": "mEK63S5sd9pZ"
      },
      "outputs": [],
      "source": [
        "def compute_gripper_pose_for_grasping_cube(\n",
        "    cube_pos, cube_quat, gripper_quat, height_above_cube=0.12\n",
        "):\n",
        "    \"\"\"\n",
        "    Compute the gripper pose for grasping a cube.\n",
        "\n",
        "    Parameters:\n",
        "        cube_pos (array): Position of the cube [x, y, z].\n",
        "        cube_quat (array): Orientation of the cube in quaternion [w, x, y, z].\n",
        "        gripper_quat (array): Orientation of the gripper in quaternion [w, x, y, z].\n",
        "        height_above_cube (float): Height above the cube for the gripper.\n",
        "\n",
        "    Returns:\n",
        "        tuple: Final gripper position, quaternion, and rotation matrix.\n",
        "    \"\"\"\n",
        "    # Compute the new gripper position for grasping\n",
        "    gripper_position = cube_pos.copy()\n",
        "    # Adjust to a suitable height above the cube base\n",
        "    gripper_position[2] += height_above_cube\n",
        "\n",
        "    # Compute the relative rotation needed to align the gripper with the cube's orientation\n",
        "    gripper_quaternion = gripper_quat.copy()\n",
        "    rotation_matrix = get_matrix_from_quaternion(gripper_quaternion)\n",
        "\n",
        "    # Combine the gripper's downward orientation with the cube's orientation\n",
        "    # to align the gripper with the cube's orientation\n",
        "    gripper_alignment = np.dot(rotation_matrix, get_matrix_from_quaternion(cube_quat))\n",
        "\n",
        "    # Return the final gripper position, quaternion, and rotation matrix\n",
        "    return gripper_position, gripper_quaternion, gripper_alignment\n",
        "\n",
        "\n",
        "# Retrieve the cube and gripper positions and orientations from the body poses\n",
        "cube_position = body_poses[\"red_cube\"][\"position\"]\n",
        "cube_orientation = body_poses[\"red_cube\"][\"orientation\"]\n",
        "hand_position = body_poses[\"hand\"][\"position\"]\n",
        "hand_orientation = body_poses[\"hand\"][\"orientation\"]\n",
        "\n",
        "# Compute the gripper pose for grasping the cube\n",
        "gripper_position, gripper_orientation, gripper_rot = (\n",
        "    compute_gripper_pose_for_grasping_cube(\n",
        "        cube_position, cube_orientation, hand_orientation\n",
        "    )\n",
        ")\n",
        "\n",
        "# Compute the pre-grasp pose (slightly above the final grasp pose)\n",
        "pre_gripper_position, pre_gripper_orientation, pre_gripper_rot = (\n",
        "    copy.deepcopy(gripper_position),\n",
        "    copy.deepcopy(gripper_orientation),\n",
        "    copy.deepcopy(gripper_rot),\n",
        ")\n",
        "pre_gripper_position[2] += 0.03\n",
        "\n",
        "# Reset the simulation data and forward the simulation to update the state\n",
        "mujoco.mj_resetDataKeyframe(model, data, 0)\n",
        "mujoco.mj_forward(model, data)\n",
        "\n",
        "# Initialize the kinematics solver with the model and body IDs\n",
        "kinematics = Kinematics(model, body_ids)\n",
        "\n",
        "# Sample the current joint positions\n",
        "sample = data.qpos[qpos_adrs]\n",
        "\n",
        "# Solve the inverse kinematics for the pre-grasp pose\n",
        "# pre_grasp_qpos = kinematics.inverse(sample, pre_gripper_position, pre_gripper_rot, max_iter=200)\n",
        "\n",
        "# Print the computed gripper poses\n",
        "print(\"Gripper Pose:\")\n",
        "print(f\"  Position: {gripper_position}\")\n",
        "print(f\"  Orientation (quaternion): {gripper_orientation}\")\n",
        "print(\"Pre Gripper Pose:\")\n",
        "print(f\"  Position: {pre_gripper_position}\")\n",
        "print(f\"  Orientation (quaternion): {pre_gripper_orientation}\")\n",
        "\n",
        "# Visualize the pre-grasp pose from different camera views\n",
        "views = [\"sideview\", \"frontview\", \"topview\"]\n",
        "for view in views:\n",
        "    media.show_image(get_image_of_pos(pre_grasp_qpos, view))"
      ]
    },
    {
      "cell_type": "markdown",
      "metadata": {
        "id": "TThZ3pfQjRXG"
      },
      "source": [
        "# Problem 3. [30pt] Find a path from an initial pose to the grasp pose\n",
        "In this problem, you are required to plan a path to execute the grasping.\n",
        "- Path Planning Recommendations:\n",
        "1. From the initial to the pre-grasp pose: Use RRT* (Rapidly-exploring Random Tree) for path planning.\n",
        "2. From the pre-grasp pose to the grasp pose: Use Cartesian planning for a straight-line approach.\n",
        "3. From the grasp pose to the post-grasp pose: Reverse the Cartesian plan.\n",
        "4. From the post-grasp pose to the initial pose: Reverse the RRT* plan."
      ]
    },
    {
      "cell_type": "code",
      "execution_count": null,
      "metadata": {
        "id": "tnubnv_dA6WX"
      },
      "outputs": [],
      "source": [
        "mujoco.mj_resetDataKeyframe(model, data, 0)\n",
        "mujoco.mj_forward(model, data)\n",
        "init_qpos = data.qpos[qpos_adrs]  # Initial Configuration\n",
        "\n",
        "cartesian_planner = CartesianPlanner()  # Cartesian Planner\n",
        "rrtstar_planner = RRTStarPlanner(gamma=0.5, eta=0.05, epsilon=0.1)  # RRT* Planner\n",
        "\n",
        "path_rrt = [init_qpos]  # Plan path using RRT*\n",
        "path_cartesian = [init_qpos]  # Plan path using Cartesian planning\n",
        "\n",
        "\n",
        "# Full path including pre/post grasp and return to initial\n",
        "full_path = (\n",
        "    [init_qpos] * 5  # Initial waiting pose\n",
        "    + path_rrt\n",
        "    + path_cartesian\n",
        "    + [gripper_position] * 5  # Grasp pose\n",
        "    + list(reversed(path_cartesian))\n",
        "    + list(reversed(path_rrt))\n",
        "    + [init_qpos] * 5  # Return to initial pose\n",
        ")"
      ]
    },
    {
      "cell_type": "markdown",
      "metadata": {
        "id": "uLYcojGDj7H7"
      },
      "source": [
        "# Problem 4. [40pt] Control a robot to follow the paths.\n",
        "You will use path planning algorithms and a PID controller to simulate the robot's movements along these paths. The solution involves:\n",
        "\n",
        "- Initializing the robot and controller.\n",
        "- Following the paths.\n",
        "- Simulating and visualizing the robot's movements."
      ]
    },
    {
      "cell_type": "code",
      "execution_count": null,
      "metadata": {
        "id": "jA78knaXNfC_"
      },
      "outputs": [],
      "source": [
        "def simulate_path(model, data, path, controller):\n",
        "    \"\"\"\n",
        "    Simulate the gripper following the planned path.\n",
        "\n",
        "    Parameters:\n",
        "        model: MuJoCo model object.\n",
        "        data: MuJoCo data object.\n",
        "        path: List of waypoints (joint configurations).\n",
        "        controller: PID controller object.\n",
        "    \"\"\"\n",
        "    FRAMERATE = 5  # Frames per second\n",
        "\n",
        "    # Initialize a list to store frames for the video\n",
        "    frames = []\n",
        "\n",
        "    # Iterate through each waypoint in the path\n",
        "    for qpos_idx, curr_qpos in enumerate(path):\n",
        "        # Reset the controller with the current simulation time\n",
        "        # Set the target position for the controller\n",
        "\n",
        "        while True:\n",
        "            # Copy the current joint positions\n",
        "            # Update the controller with the current positions and time\n",
        "            # Set the control inputs for the actuators\n",
        "            # Step the simulation forward\n",
        "\n",
        "            # Render and save frames\n",
        "            if len(frames) < data.time * FRAMERATE:\n",
        "                renderer.update_scene(data, camera=\"sideview\")\n",
        "                pixels = renderer.render()\n",
        "                frames.append(pixels)\n",
        "            # Break if the current error is small enough\n",
        "            if np.sum(np.abs(controller.err_curr)) < 0.07:\n",
        "                break\n",
        "\n",
        "    return frames\n",
        "\n",
        "\n",
        "# Define a controller\n",
        "pid_controller = PIDController(\n",
        "    k_p=1000,\n",
        "    k_i=0.1,\n",
        "    k_d=50,\n",
        "    dim=7,\n",
        "    out_min=model.actuator_ctrlrange[ctrl_adrs, 0],\n",
        "    out_max=model.actuator_ctrlrange[ctrl_adrs, 1],\n",
        ")\n",
        "\n",
        "# Initialize pose.\n",
        "mujoco.mj_resetDataKeyframe(model, data, 0)\n",
        "\n",
        "# Simulate paths and collect frames\n",
        "frames = simulate_path(model, data, full_path, pid_controller)\n",
        "\n",
        "# Display video.\n",
        "media.show_video(frames, fps=FRAMERATE)"
      ]
    },
    {
      "cell_type": "code",
      "execution_count": null,
      "metadata": {
        "id": "u523mnHocAAc"
      },
      "outputs": [],
      "source": []
    }
  ],
  "metadata": {
    "accelerator": "GPU",
    "colab": {
      "collapsed_sections": [
        "NlS6z5XCY83B",
        "LCmyHM6JY83E",
        "6AaojDSeY83F",
        "ZW9iA5PMY83I",
        "m_0YJ7zzY83J",
        "J4a2jlinY83K"
      ],
      "gpuType": "T4",
      "provenance": []
    },
    "kernelspec": {
      "display_name": "Python 3",
      "name": "python3"
    },
    "language_info": {
      "codemirror_mode": {
        "name": "ipython",
        "version": 3
      },
      "file_extension": ".py",
      "mimetype": "text/x-python",
      "name": "python",
      "nbconvert_exporter": "python",
      "pygments_lexer": "ipython3",
      "version": "3.10.12"
    }
  },
  "nbformat": 4,
  "nbformat_minor": 0
}
